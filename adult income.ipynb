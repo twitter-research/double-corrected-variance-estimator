{
 "cells": [
  {
   "cell_type": "markdown",
   "id": "0fa6b102",
   "metadata": {},
   "source": [
    "Copyright 2021 Twitter, Inc.\n",
    "\n",
    "SPDX-License-Identifier: Apache-2.0"
   ]
  },
  {
   "cell_type": "code",
   "execution_count": 1,
   "id": "6308233d-153d-46b7-b477-186f0053fa69",
   "metadata": {
    "vscode": {
     "languageId": "r"
    }
   },
   "outputs": [
    {
     "name": "stderr",
     "output_type": "stream",
     "text": [
      "── \u001b[1mAttaching packages\u001b[22m ──────────────────────────────────────────────────────────────────────────────────────────────────── tidyverse 1.3.1 ──\n",
      "\n",
      "\u001b[32m✔\u001b[39m \u001b[34mggplot2\u001b[39m 3.3.5     \u001b[32m✔\u001b[39m \u001b[34mpurrr  \u001b[39m 0.3.4\n",
      "\u001b[32m✔\u001b[39m \u001b[34mtibble \u001b[39m 3.1.5     \u001b[32m✔\u001b[39m \u001b[34mdplyr  \u001b[39m 1.0.7\n",
      "\u001b[32m✔\u001b[39m \u001b[34mtidyr  \u001b[39m 1.1.4     \u001b[32m✔\u001b[39m \u001b[34mstringr\u001b[39m 1.4.0\n",
      "\u001b[32m✔\u001b[39m \u001b[34mreadr  \u001b[39m 2.0.2     \u001b[32m✔\u001b[39m \u001b[34mforcats\u001b[39m 0.5.1\n",
      "\n",
      "── \u001b[1mConflicts\u001b[22m ─────────────────────────────────────────────────────────────────────────────────────────────────────── tidyverse_conflicts() ──\n",
      "\u001b[31m✖\u001b[39m \u001b[34mdplyr\u001b[39m::\u001b[32mfilter()\u001b[39m masks \u001b[34mstats\u001b[39m::filter()\n",
      "\u001b[31m✖\u001b[39m \u001b[34mdplyr\u001b[39m::\u001b[32mlag()\u001b[39m    masks \u001b[34mstats\u001b[39m::lag()\n",
      "\n",
      "\n",
      "Attaching package: ‘data.table’\n",
      "\n",
      "\n",
      "The following objects are masked from ‘package:dplyr’:\n",
      "\n",
      "    between, first, last\n",
      "\n",
      "\n",
      "The following object is masked from ‘package:purrr’:\n",
      "\n",
      "    transpose\n",
      "\n",
      "\n"
     ]
    }
   ],
   "source": [
    "library(tidyverse)\n",
    "library(data.table)"
   ]
  },
  {
   "cell_type": "code",
   "execution_count": 2,
   "id": "b9ec56b4-ca26-41e6-8141-5d3a88164783",
   "metadata": {
    "vscode": {
     "languageId": "r"
    }
   },
   "outputs": [],
   "source": [
    "apply_corrections <- function(dat, threshold = FALSE){\n",
    "  #applies three candidate corrections to the simulated binomial data\n",
    "  uncorrected_var <- apply(dat$mu_hats, 2, var)\n",
    "  sigma2_hats <- dat$mu_hats*(1-dat$mu_hats)/dat$nks\n",
    "  corrected_var <- uncorrected_var - apply(sigma2_hats, 2, mean)\n",
    "  double_corrected_var <-uncorrected_var - 2*apply(sigma2_hats, 2, mean) + apply(sigma2_hats/dat$nks, 2, mean)\n",
    "  \n",
    "  \n",
    "  \n",
    "  if(threshold){\n",
    "    corrected_var <- pmax(0, corrected_var)\n",
    "    double_corrected_var <- pmax(0, double_corrected_var)\n",
    "  }\n",
    "  \n",
    "  out <- data.frame(uncorrected_var, corrected_var, double_corrected_var)\n",
    "  \n",
    "}\n",
    "\n",
    "double_correction <- function(df, nsample=500) {\n",
    "    d <- rowwise(df) %>% mutate(sample_rate = list(rbinom(nsample, n, rate)/n))\n",
    "    results <- apply_corrections(list(mu_hats=do.call(rbind, d$sample_rate), nks=d$n), TRUE)\n",
    "    bounds <- results %>% summarise_all(~list(as_tibble(as.list(quantile(., probs=c(.025, .975)))))) %>% unnest(cols = 1:3, names_sep='_')\n",
    "    append(lapply(results, median), bounds)\n",
    "}"
   ]
  },
  {
   "cell_type": "code",
   "execution_count": 3,
   "id": "ea04b374-06ef-4d73-a1f6-376cb46b9f98",
   "metadata": {
    "vscode": {
     "languageId": "r"
    }
   },
   "outputs": [
    {
     "name": "stderr",
     "output_type": "stream",
     "text": [
      "\u001b[1m\u001b[1mRows: \u001b[1m\u001b[22m\u001b[34m\u001b[34m14653\u001b[34m\u001b[39m \u001b[1m\u001b[1mColumns: \u001b[1m\u001b[22m\u001b[34m\u001b[34m15\u001b[34m\u001b[39m\n",
      "\n",
      "\u001b[36m──\u001b[39m \u001b[1m\u001b[1mColumn specification\u001b[1m\u001b[22m \u001b[36m─────────────────────────────────────────────────────────────────────────────────────────────────────────────────────\u001b[39m\n",
      "\u001b[1mDelimiter:\u001b[22m \",\"\n",
      "\u001b[31mchr\u001b[39m (8): workclass, education, marital-status, occupation, relationship, rac...\n",
      "\u001b[32mdbl\u001b[39m (7): age, education-num, capital-gain, capital-loss, hours-per-week, sco...\n",
      "\n",
      "\n",
      "\u001b[36mℹ\u001b[39m Use \u001b[30m\u001b[47m\u001b[30m\u001b[47m`spec()`\u001b[47m\u001b[30m\u001b[49m\u001b[39m to retrieve the full column specification for this data.\n",
      "\u001b[36mℹ\u001b[39m Specify the column types or set \u001b[30m\u001b[47m\u001b[30m\u001b[47m`show_col_types = FALSE`\u001b[47m\u001b[30m\u001b[49m\u001b[39m to quiet this message.\n",
      "\n"
     ]
    }
   ],
   "source": [
    "income <- read_csv('adult_income_with_predictions.csv') %>% mutate(age_group = cut_width(age, width=10, center=50))"
   ]
  },
  {
   "cell_type": "code",
   "execution_count": 4,
   "id": "b6fb7d6a-7003-40d9-ba9a-88339eb1af4b",
   "metadata": {
    "vscode": {
     "languageId": "r"
    }
   },
   "outputs": [
    {
     "data": {
      "text/html": [
       "14653"
      ],
      "text/latex": [
       "14653"
      ],
      "text/markdown": [
       "14653"
      ],
      "text/plain": [
       "[1] 14653"
      ]
     },
     "metadata": {},
     "output_type": "display_data"
    }
   ],
   "source": [
    "nrow(income)"
   ]
  },
  {
   "cell_type": "code",
   "execution_count": 5,
   "id": "12450e43-11d4-4a1e-915f-d61b4e1cde2f",
   "metadata": {
    "vscode": {
     "languageId": "r"
    }
   },
   "outputs": [
    {
     "data": {
      "text/html": [
       "0.872790554835187"
      ],
      "text/latex": [
       "0.872790554835187"
      ],
      "text/markdown": [
       "0.872790554835187"
      ],
      "text/plain": [
       "[1] 0.8727906"
      ]
     },
     "metadata": {},
     "output_type": "display_data"
    }
   ],
   "source": [
    "# mean accuracy\n",
    "mean(income$income_gt_50K == (income$score >= 0.5))"
   ]
  },
  {
   "cell_type": "code",
   "execution_count": 6,
   "id": "518eae59-a6f3-434d-a389-a32960668157",
   "metadata": {
    "vscode": {
     "languageId": "r"
    }
   },
   "outputs": [
    {
     "data": {
      "text/plain": [
       "   Min. 1st Qu.  Median    Mean 3rd Qu.    Max. \n",
       "  17.00   28.00   37.00   38.68   48.00   90.00 "
      ]
     },
     "metadata": {},
     "output_type": "display_data"
    }
   ],
   "source": [
    "summary(income$age)"
   ]
  },
  {
   "cell_type": "code",
   "execution_count": 7,
   "id": "f357239d-2db9-458b-b4dd-a7e95708f392",
   "metadata": {
    "vscode": {
     "languageId": "r"
    }
   },
   "outputs": [
    {
     "data": {
      "text/html": [
       "<table class=\"dataframe\">\n",
       "<caption>A tibble: 8 × 3</caption>\n",
       "<thead>\n",
       "\t<tr><th scope=col>age_group</th><th scope=col>n</th><th scope=col>prop</th></tr>\n",
       "\t<tr><th scope=col>&lt;fct&gt;</th><th scope=col>&lt;int&gt;</th><th scope=col>&lt;dbl&gt;</th></tr>\n",
       "</thead>\n",
       "<tbody>\n",
       "\t<tr><td>[15,25]</td><td>2845</td><td>0.194158193</td></tr>\n",
       "\t<tr><td>(25,35]</td><td>3898</td><td>0.266020610</td></tr>\n",
       "\t<tr><td>(35,45]</td><td>3515</td><td>0.239882618</td></tr>\n",
       "\t<tr><td>(45,55]</td><td>2504</td><td>0.170886508</td></tr>\n",
       "\t<tr><td>(55,65]</td><td>1333</td><td>0.090971132</td></tr>\n",
       "\t<tr><td>(65,75]</td><td> 438</td><td>0.029891490</td></tr>\n",
       "\t<tr><td>(75,85]</td><td>  99</td><td>0.006756296</td></tr>\n",
       "\t<tr><td>(85,95]</td><td>  21</td><td>0.001433154</td></tr>\n",
       "</tbody>\n",
       "</table>\n"
      ],
      "text/latex": [
       "A tibble: 8 × 3\n",
       "\\begin{tabular}{lll}\n",
       " age\\_group & n & prop\\\\\n",
       " <fct> & <int> & <dbl>\\\\\n",
       "\\hline\n",
       "\t {[}15,25{]} & 2845 & 0.194158193\\\\\n",
       "\t (25,35{]} & 3898 & 0.266020610\\\\\n",
       "\t (35,45{]} & 3515 & 0.239882618\\\\\n",
       "\t (45,55{]} & 2504 & 0.170886508\\\\\n",
       "\t (55,65{]} & 1333 & 0.090971132\\\\\n",
       "\t (65,75{]} &  438 & 0.029891490\\\\\n",
       "\t (75,85{]} &   99 & 0.006756296\\\\\n",
       "\t (85,95{]} &   21 & 0.001433154\\\\\n",
       "\\end{tabular}\n"
      ],
      "text/markdown": [
       "\n",
       "A tibble: 8 × 3\n",
       "\n",
       "| age_group &lt;fct&gt; | n &lt;int&gt; | prop &lt;dbl&gt; |\n",
       "|---|---|---|\n",
       "| [15,25] | 2845 | 0.194158193 |\n",
       "| (25,35] | 3898 | 0.266020610 |\n",
       "| (35,45] | 3515 | 0.239882618 |\n",
       "| (45,55] | 2504 | 0.170886508 |\n",
       "| (55,65] | 1333 | 0.090971132 |\n",
       "| (65,75] |  438 | 0.029891490 |\n",
       "| (75,85] |   99 | 0.006756296 |\n",
       "| (85,95] |   21 | 0.001433154 |\n",
       "\n"
      ],
      "text/plain": [
       "  age_group n    prop       \n",
       "1 [15,25]   2845 0.194158193\n",
       "2 (25,35]   3898 0.266020610\n",
       "3 (35,45]   3515 0.239882618\n",
       "4 (45,55]   2504 0.170886508\n",
       "5 (55,65]   1333 0.090971132\n",
       "6 (65,75]    438 0.029891490\n",
       "7 (75,85]     99 0.006756296\n",
       "8 (85,95]     21 0.001433154"
      ]
     },
     "metadata": {},
     "output_type": "display_data"
    }
   ],
   "source": [
    "income %>% group_by(age_group) %>% summarise(n=n()) %>% ungroup() %>% mutate(prop=n/sum(n))"
   ]
  },
  {
   "cell_type": "code",
   "execution_count": 8,
   "id": "5c15c986-c0d5-48a2-9740-02dd2c9b2dbc",
   "metadata": {
    "vscode": {
     "languageId": "r"
    }
   },
   "outputs": [
    {
     "data": {
      "text/html": [
       "<table class=\"dataframe\">\n",
       "<caption>A tibble: 5 × 3</caption>\n",
       "<thead>\n",
       "\t<tr><th scope=col>race</th><th scope=col>count</th><th scope=col>prop</th></tr>\n",
       "\t<tr><th scope=col>&lt;chr&gt;</th><th scope=col>&lt;int&gt;</th><th scope=col>&lt;dbl&gt;</th></tr>\n",
       "</thead>\n",
       "<tbody>\n",
       "\t<tr><td>Amer-Indian-Eskimo</td><td>  125</td><td>0.008530676</td></tr>\n",
       "\t<tr><td>Asian-Pac-Islander</td><td>  401</td><td>0.027366410</td></tr>\n",
       "\t<tr><td>Black             </td><td> 1347</td><td>0.091926568</td></tr>\n",
       "\t<tr><td>Other             </td><td>  115</td><td>0.007848222</td></tr>\n",
       "\t<tr><td>White             </td><td>12665</td><td>0.864328124</td></tr>\n",
       "</tbody>\n",
       "</table>\n"
      ],
      "text/latex": [
       "A tibble: 5 × 3\n",
       "\\begin{tabular}{lll}\n",
       " race & count & prop\\\\\n",
       " <chr> & <int> & <dbl>\\\\\n",
       "\\hline\n",
       "\t Amer-Indian-Eskimo &   125 & 0.008530676\\\\\n",
       "\t Asian-Pac-Islander &   401 & 0.027366410\\\\\n",
       "\t Black              &  1347 & 0.091926568\\\\\n",
       "\t Other              &   115 & 0.007848222\\\\\n",
       "\t White              & 12665 & 0.864328124\\\\\n",
       "\\end{tabular}\n"
      ],
      "text/markdown": [
       "\n",
       "A tibble: 5 × 3\n",
       "\n",
       "| race &lt;chr&gt; | count &lt;int&gt; | prop &lt;dbl&gt; |\n",
       "|---|---|---|\n",
       "| Amer-Indian-Eskimo |   125 | 0.008530676 |\n",
       "| Asian-Pac-Islander |   401 | 0.027366410 |\n",
       "| Black              |  1347 | 0.091926568 |\n",
       "| Other              |   115 | 0.007848222 |\n",
       "| White              | 12665 | 0.864328124 |\n",
       "\n"
      ],
      "text/plain": [
       "  race               count prop       \n",
       "1 Amer-Indian-Eskimo   125 0.008530676\n",
       "2 Asian-Pac-Islander   401 0.027366410\n",
       "3 Black               1347 0.091926568\n",
       "4 Other                115 0.007848222\n",
       "5 White              12665 0.864328124"
      ]
     },
     "metadata": {},
     "output_type": "display_data"
    }
   ],
   "source": [
    "income %>% group_by(race) %>% summarise(count=n()) %>% ungroup() %>% mutate(prop=count/sum(count))"
   ]
  },
  {
   "cell_type": "code",
   "execution_count": 9,
   "id": "a0674384-1275-4ede-8448-38c34c9ec6f3",
   "metadata": {
    "vscode": {
     "languageId": "r"
    }
   },
   "outputs": [],
   "source": [
    "df <- list()\n",
    "for (feature in c('race', 'age_group')) {\n",
    "    tpr <- income %>% filter(income_gt_50K == 1) %>% group_by(!!as.name(feature)) %>% summarise(rate=mean(score >= 0.5), n=n())\n",
    "    fpr <- income %>% filter(income_gt_50K == 0) %>% group_by(!!as.name(feature)) %>% summarise(rate=mean(score >= 0.5), n=n())\n",
    "    sr <- income %>% group_by(!!as.name(feature)) %>% summarise(rate=mean(score >= 0.5), n=n())\n",
    "     \n",
    "    df <- append(df, list(c(metric='TPR', feature=feature, double_correction(tpr))))\n",
    "    df <- append(df, list(c(metric='FPR', feature=feature, double_correction(fpr))))\n",
    "    df <- append(df, list(c(metric='SR', feature=feature, double_correction(sr))))\n",
    "}"
   ]
  },
  {
   "cell_type": "code",
   "execution_count": 10,
   "id": "ae250e76-6f67-4a69-ab60-9f980061bc14",
   "metadata": {
    "vscode": {
     "languageId": "r"
    }
   },
   "outputs": [],
   "source": [
    "df <- rbindlist(df, fill=TRUE)"
   ]
  },
  {
   "cell_type": "code",
   "execution_count": 11,
   "id": "341b185e-7944-48ce-b60a-ac97a6dd1031",
   "metadata": {
    "vscode": {
     "languageId": "r"
    }
   },
   "outputs": [
    {
     "data": {
      "text/html": [
       "<table class=\"dataframe\">\n",
       "<caption>A data.table: 6 × 11</caption>\n",
       "<thead>\n",
       "\t<tr><th scope=col>metric</th><th scope=col>feature</th><th scope=col>uncorrected_var</th><th scope=col>corrected_var</th><th scope=col>double_corrected_var</th><th scope=col>uncorrected_var_2.5%</th><th scope=col>uncorrected_var_97.5%</th><th scope=col>corrected_var_2.5%</th><th scope=col>corrected_var_97.5%</th><th scope=col>double_corrected_var_2.5%</th><th scope=col>double_corrected_var_97.5%</th></tr>\n",
       "\t<tr><th scope=col>&lt;chr&gt;</th><th scope=col>&lt;chr&gt;</th><th scope=col>&lt;dbl&gt;</th><th scope=col>&lt;dbl&gt;</th><th scope=col>&lt;dbl&gt;</th><th scope=col>&lt;dbl&gt;</th><th scope=col>&lt;dbl&gt;</th><th scope=col>&lt;dbl&gt;</th><th scope=col>&lt;dbl&gt;</th><th scope=col>&lt;dbl&gt;</th><th scope=col>&lt;dbl&gt;</th></tr>\n",
       "</thead>\n",
       "<tbody>\n",
       "\t<tr><td>FPR</td><td>age_group</td><td>0.0028</td><td>0.0021</td><td>0.0013</td><td>0.0017</td><td>0.0116</td><td>0.0011</td><td>0.0097</td><td>0.0003</td><td>0.0079</td></tr>\n",
       "\t<tr><td>FPR</td><td>race     </td><td>0.0014</td><td>0.0012</td><td>0.0011</td><td>0.0007</td><td>0.0025</td><td>0.0006</td><td>0.0023</td><td>0.0005</td><td>0.0022</td></tr>\n",
       "\t<tr><td>SR </td><td>age_group</td><td>0.0157</td><td>0.0142</td><td>0.0128</td><td>0.0122</td><td>0.0287</td><td>0.0110</td><td>0.0270</td><td>0.0098</td><td>0.0255</td></tr>\n",
       "\t<tr><td>SR </td><td>race     </td><td>0.0072</td><td>0.0068</td><td>0.0065</td><td>0.0045</td><td>0.0108</td><td>0.0041</td><td>0.0105</td><td>0.0037</td><td>0.0103</td></tr>\n",
       "\t<tr><td>TPR</td><td>age_group</td><td>0.0286</td><td>0.0227</td><td>0.0176</td><td>0.0118</td><td>0.0477</td><td>0.0043</td><td>0.0455</td><td>0.0000</td><td>0.0431</td></tr>\n",
       "\t<tr><td>TPR</td><td>race     </td><td>0.0155</td><td>0.0084</td><td>0.0018</td><td>0.0028</td><td>0.0520</td><td>0.0000</td><td>0.0463</td><td>0.0000</td><td>0.0407</td></tr>\n",
       "</tbody>\n",
       "</table>\n"
      ],
      "text/latex": [
       "A data.table: 6 × 11\n",
       "\\begin{tabular}{lllllllllll}\n",
       " metric & feature & uncorrected\\_var & corrected\\_var & double\\_corrected\\_var & uncorrected\\_var\\_2.5\\% & uncorrected\\_var\\_97.5\\% & corrected\\_var\\_2.5\\% & corrected\\_var\\_97.5\\% & double\\_corrected\\_var\\_2.5\\% & double\\_corrected\\_var\\_97.5\\%\\\\\n",
       " <chr> & <chr> & <dbl> & <dbl> & <dbl> & <dbl> & <dbl> & <dbl> & <dbl> & <dbl> & <dbl>\\\\\n",
       "\\hline\n",
       "\t FPR & age\\_group & 0.0028 & 0.0021 & 0.0013 & 0.0017 & 0.0116 & 0.0011 & 0.0097 & 0.0003 & 0.0079\\\\\n",
       "\t FPR & race      & 0.0014 & 0.0012 & 0.0011 & 0.0007 & 0.0025 & 0.0006 & 0.0023 & 0.0005 & 0.0022\\\\\n",
       "\t SR  & age\\_group & 0.0157 & 0.0142 & 0.0128 & 0.0122 & 0.0287 & 0.0110 & 0.0270 & 0.0098 & 0.0255\\\\\n",
       "\t SR  & race      & 0.0072 & 0.0068 & 0.0065 & 0.0045 & 0.0108 & 0.0041 & 0.0105 & 0.0037 & 0.0103\\\\\n",
       "\t TPR & age\\_group & 0.0286 & 0.0227 & 0.0176 & 0.0118 & 0.0477 & 0.0043 & 0.0455 & 0.0000 & 0.0431\\\\\n",
       "\t TPR & race      & 0.0155 & 0.0084 & 0.0018 & 0.0028 & 0.0520 & 0.0000 & 0.0463 & 0.0000 & 0.0407\\\\\n",
       "\\end{tabular}\n"
      ],
      "text/markdown": [
       "\n",
       "A data.table: 6 × 11\n",
       "\n",
       "| metric &lt;chr&gt; | feature &lt;chr&gt; | uncorrected_var &lt;dbl&gt; | corrected_var &lt;dbl&gt; | double_corrected_var &lt;dbl&gt; | uncorrected_var_2.5% &lt;dbl&gt; | uncorrected_var_97.5% &lt;dbl&gt; | corrected_var_2.5% &lt;dbl&gt; | corrected_var_97.5% &lt;dbl&gt; | double_corrected_var_2.5% &lt;dbl&gt; | double_corrected_var_97.5% &lt;dbl&gt; |\n",
       "|---|---|---|---|---|---|---|---|---|---|---|\n",
       "| FPR | age_group | 0.0028 | 0.0021 | 0.0013 | 0.0017 | 0.0116 | 0.0011 | 0.0097 | 0.0003 | 0.0079 |\n",
       "| FPR | race      | 0.0014 | 0.0012 | 0.0011 | 0.0007 | 0.0025 | 0.0006 | 0.0023 | 0.0005 | 0.0022 |\n",
       "| SR  | age_group | 0.0157 | 0.0142 | 0.0128 | 0.0122 | 0.0287 | 0.0110 | 0.0270 | 0.0098 | 0.0255 |\n",
       "| SR  | race      | 0.0072 | 0.0068 | 0.0065 | 0.0045 | 0.0108 | 0.0041 | 0.0105 | 0.0037 | 0.0103 |\n",
       "| TPR | age_group | 0.0286 | 0.0227 | 0.0176 | 0.0118 | 0.0477 | 0.0043 | 0.0455 | 0.0000 | 0.0431 |\n",
       "| TPR | race      | 0.0155 | 0.0084 | 0.0018 | 0.0028 | 0.0520 | 0.0000 | 0.0463 | 0.0000 | 0.0407 |\n",
       "\n"
      ],
      "text/plain": [
       "  metric feature   uncorrected_var corrected_var double_corrected_var\n",
       "1 FPR    age_group 0.0028          0.0021        0.0013              \n",
       "2 FPR    race      0.0014          0.0012        0.0011              \n",
       "3 SR     age_group 0.0157          0.0142        0.0128              \n",
       "4 SR     race      0.0072          0.0068        0.0065              \n",
       "5 TPR    age_group 0.0286          0.0227        0.0176              \n",
       "6 TPR    race      0.0155          0.0084        0.0018              \n",
       "  uncorrected_var_2.5% uncorrected_var_97.5% corrected_var_2.5%\n",
       "1 0.0017               0.0116                0.0011            \n",
       "2 0.0007               0.0025                0.0006            \n",
       "3 0.0122               0.0287                0.0110            \n",
       "4 0.0045               0.0108                0.0041            \n",
       "5 0.0118               0.0477                0.0043            \n",
       "6 0.0028               0.0520                0.0000            \n",
       "  corrected_var_97.5% double_corrected_var_2.5% double_corrected_var_97.5%\n",
       "1 0.0097              0.0003                    0.0079                    \n",
       "2 0.0023              0.0005                    0.0022                    \n",
       "3 0.0270              0.0098                    0.0255                    \n",
       "4 0.0105              0.0037                    0.0103                    \n",
       "5 0.0455              0.0000                    0.0431                    \n",
       "6 0.0463              0.0000                    0.0407                    "
      ]
     },
     "metadata": {},
     "output_type": "display_data"
    }
   ],
   "source": [
    "df %>% arrange(metric, feature) %>%\n",
    " mutate_if(is.numeric, round, digits=4)"
   ]
  },
  {
   "cell_type": "code",
   "execution_count": 12,
   "id": "c9f6e107-fa12-4410-8a42-cfb7219dd064",
   "metadata": {
    "vscode": {
     "languageId": "r"
    }
   },
   "outputs": [],
   "source": [
    "pd <- df %>% select(-(3:5)) %>% pivot_longer(cols=3:8, names_sep='_var_', names_to=c(\"method\", \"bound\")) %>% filter(method != 'corrected') %>% pivot_wider(names_from=bound)\n",
    "pd <- rename(pd, c('lower'='2.5%', 'upper'='97.5%'))"
   ]
  },
  {
   "cell_type": "code",
   "execution_count": 13,
   "id": "05764fca-53f0-4a90-89fa-4dc36e94c76c",
   "metadata": {
    "vscode": {
     "languageId": "r"
    }
   },
   "outputs": [
    {
     "data": {
      "text/html": [
       "<table class=\"dataframe\">\n",
       "<caption>A tibble: 12 × 5</caption>\n",
       "<thead>\n",
       "\t<tr><th scope=col>metric</th><th scope=col>feature</th><th scope=col>method</th><th scope=col>lower</th><th scope=col>upper</th></tr>\n",
       "\t<tr><th scope=col>&lt;chr&gt;</th><th scope=col>&lt;chr&gt;</th><th scope=col>&lt;chr&gt;</th><th scope=col>&lt;dbl&gt;</th><th scope=col>&lt;dbl&gt;</th></tr>\n",
       "</thead>\n",
       "<tbody>\n",
       "\t<tr><td>TPR</td><td>race     </td><td>uncorrected     </td><td>0.0028097355</td><td>0.052041650</td></tr>\n",
       "\t<tr><td>TPR</td><td>race     </td><td>double_corrected</td><td>0.0000000000</td><td>0.040719331</td></tr>\n",
       "\t<tr><td>FPR</td><td>race     </td><td>uncorrected     </td><td>0.0007183938</td><td>0.002466362</td></tr>\n",
       "\t<tr><td>FPR</td><td>race     </td><td>double_corrected</td><td>0.0005151764</td><td>0.002218034</td></tr>\n",
       "\t<tr><td>SR </td><td>race     </td><td>uncorrected     </td><td>0.0044530790</td><td>0.010778322</td></tr>\n",
       "\t<tr><td>SR </td><td>race     </td><td>double_corrected</td><td>0.0036981694</td><td>0.010252778</td></tr>\n",
       "\t<tr><td>TPR</td><td>age_group</td><td>uncorrected     </td><td>0.0118473758</td><td>0.047725370</td></tr>\n",
       "\t<tr><td>TPR</td><td>age_group</td><td>double_corrected</td><td>0.0000000000</td><td>0.043064355</td></tr>\n",
       "\t<tr><td>FPR</td><td>age_group</td><td>uncorrected     </td><td>0.0017429443</td><td>0.011628342</td></tr>\n",
       "\t<tr><td>FPR</td><td>age_group</td><td>double_corrected</td><td>0.0003075220</td><td>0.007931422</td></tr>\n",
       "\t<tr><td>SR </td><td>age_group</td><td>uncorrected     </td><td>0.0122233591</td><td>0.028682498</td></tr>\n",
       "\t<tr><td>SR </td><td>age_group</td><td>double_corrected</td><td>0.0097690090</td><td>0.025450620</td></tr>\n",
       "</tbody>\n",
       "</table>\n"
      ],
      "text/latex": [
       "A tibble: 12 × 5\n",
       "\\begin{tabular}{lllll}\n",
       " metric & feature & method & lower & upper\\\\\n",
       " <chr> & <chr> & <chr> & <dbl> & <dbl>\\\\\n",
       "\\hline\n",
       "\t TPR & race      & uncorrected      & 0.0028097355 & 0.052041650\\\\\n",
       "\t TPR & race      & double\\_corrected & 0.0000000000 & 0.040719331\\\\\n",
       "\t FPR & race      & uncorrected      & 0.0007183938 & 0.002466362\\\\\n",
       "\t FPR & race      & double\\_corrected & 0.0005151764 & 0.002218034\\\\\n",
       "\t SR  & race      & uncorrected      & 0.0044530790 & 0.010778322\\\\\n",
       "\t SR  & race      & double\\_corrected & 0.0036981694 & 0.010252778\\\\\n",
       "\t TPR & age\\_group & uncorrected      & 0.0118473758 & 0.047725370\\\\\n",
       "\t TPR & age\\_group & double\\_corrected & 0.0000000000 & 0.043064355\\\\\n",
       "\t FPR & age\\_group & uncorrected      & 0.0017429443 & 0.011628342\\\\\n",
       "\t FPR & age\\_group & double\\_corrected & 0.0003075220 & 0.007931422\\\\\n",
       "\t SR  & age\\_group & uncorrected      & 0.0122233591 & 0.028682498\\\\\n",
       "\t SR  & age\\_group & double\\_corrected & 0.0097690090 & 0.025450620\\\\\n",
       "\\end{tabular}\n"
      ],
      "text/markdown": [
       "\n",
       "A tibble: 12 × 5\n",
       "\n",
       "| metric &lt;chr&gt; | feature &lt;chr&gt; | method &lt;chr&gt; | lower &lt;dbl&gt; | upper &lt;dbl&gt; |\n",
       "|---|---|---|---|---|\n",
       "| TPR | race      | uncorrected      | 0.0028097355 | 0.052041650 |\n",
       "| TPR | race      | double_corrected | 0.0000000000 | 0.040719331 |\n",
       "| FPR | race      | uncorrected      | 0.0007183938 | 0.002466362 |\n",
       "| FPR | race      | double_corrected | 0.0005151764 | 0.002218034 |\n",
       "| SR  | race      | uncorrected      | 0.0044530790 | 0.010778322 |\n",
       "| SR  | race      | double_corrected | 0.0036981694 | 0.010252778 |\n",
       "| TPR | age_group | uncorrected      | 0.0118473758 | 0.047725370 |\n",
       "| TPR | age_group | double_corrected | 0.0000000000 | 0.043064355 |\n",
       "| FPR | age_group | uncorrected      | 0.0017429443 | 0.011628342 |\n",
       "| FPR | age_group | double_corrected | 0.0003075220 | 0.007931422 |\n",
       "| SR  | age_group | uncorrected      | 0.0122233591 | 0.028682498 |\n",
       "| SR  | age_group | double_corrected | 0.0097690090 | 0.025450620 |\n",
       "\n"
      ],
      "text/plain": [
       "   metric feature   method           lower        upper      \n",
       "1  TPR    race      uncorrected      0.0028097355 0.052041650\n",
       "2  TPR    race      double_corrected 0.0000000000 0.040719331\n",
       "3  FPR    race      uncorrected      0.0007183938 0.002466362\n",
       "4  FPR    race      double_corrected 0.0005151764 0.002218034\n",
       "5  SR     race      uncorrected      0.0044530790 0.010778322\n",
       "6  SR     race      double_corrected 0.0036981694 0.010252778\n",
       "7  TPR    age_group uncorrected      0.0118473758 0.047725370\n",
       "8  TPR    age_group double_corrected 0.0000000000 0.043064355\n",
       "9  FPR    age_group uncorrected      0.0017429443 0.011628342\n",
       "10 FPR    age_group double_corrected 0.0003075220 0.007931422\n",
       "11 SR     age_group uncorrected      0.0122233591 0.028682498\n",
       "12 SR     age_group double_corrected 0.0097690090 0.025450620"
      ]
     },
     "metadata": {},
     "output_type": "display_data"
    }
   ],
   "source": [
    "pd"
   ]
  },
  {
   "cell_type": "code",
   "execution_count": 14,
   "id": "10b97825-3276-469f-aa2a-89e4d26dc932",
   "metadata": {
    "vscode": {
     "languageId": "r"
    }
   },
   "outputs": [
    {
     "data": {
      "image/png": "[encoded data removed]",
      "text/plain": [
       "plot without title"
      ]
     },
     "metadata": {
      "image/png": {
       "height": 375,
       "width": 750
      }
     },
     "output_type": "display_data"
    }
   ],
   "source": [
    "options(repr.plot.width=5, repr.plot.height=2.5, repr.plot.res=300)\n",
    "ggplot(pd, aes(y=method, color=method, xmax=upper, xmin=lower)) + \n",
    "    geom_errorbarh(height=0.25) + \n",
    "    geom_vline(xintercept=0, size=0.25) +\n",
    "    scale_y_discrete(labels=function(x) gsub('_', '\\n', x)) +\n",
    "    facet_grid(feature~metric) + \n",
    "    theme_bw(base_size=10) + theme(legend.position='none', axis.text.x=element_text(angle=45, hjust=1))\n",
    "                     \n",
    "ggsave(\"adult_intervals.pdf\", width=5, height=2.5)"
   ]
  },
  {
   "cell_type": "code",
   "execution_count": null,
   "id": "734e5b68-e332-4d92-89df-e15d955a8aed",
   "metadata": {
    "vscode": {
     "languageId": "r"
    }
   },
   "outputs": [],
   "source": []
  },
  {
   "cell_type": "code",
   "execution_count": null,
   "id": "3517d41c-1f4b-453f-b6aa-3b2f0da89276",
   "metadata": {
    "vscode": {
     "languageId": "r"
    }
   },
   "outputs": [],
   "source": []
  }
 ],
 "metadata": {
  "kernelspec": {
   "display_name": "R",
   "language": "R",
   "name": "ir"
  },
  "language_info": {
   "codemirror_mode": "r",
   "file_extension": ".r",
   "mimetype": "text/x-r-source",
   "name": "R",
   "pygments_lexer": "r",
   "version": "4.1.1"
  }
 },
 "nbformat": 4,
 "nbformat_minor": 5
}
